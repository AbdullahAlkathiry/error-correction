{
 "cells": [
  {
   "attachments": {},
   "cell_type": "markdown",
   "metadata": {},
   "source": [
    "## LDPC ALgorithm"
   ]
  },
  {
   "cell_type": "code",
   "execution_count": 1,
   "metadata": {},
   "outputs": [],
   "source": [
    "import numpy as np\n",
    "import matplotlib.pyplot as plt"
   ]
  },
  {
   "cell_type": "code",
   "execution_count": 138,
   "metadata": {},
   "outputs": [
    {
     "name": "stdout",
     "output_type": "stream",
     "text": [
      "255\n"
     ]
    }
   ],
   "source": [
    "# generate random n bit and add error\n",
    "n = 12000 # 12000\n",
    "qber = 0.02\n",
    "data = (np.random.rand(n)<0.5)%2\n",
    "flip = (np.random.rand(n)<qber)%2\n",
    "data_err = (np.logical_xor(flip,data))%2\n",
    "#print(np.sum(data_err == data),data_err)\n",
    "print(sum(flip))"
   ]
  },
  {
   "attachments": {},
   "cell_type": "markdown",
   "metadata": {},
   "source": [
    "### Generate H matrix and convert it to array"
   ]
  },
  {
   "cell_type": "code",
   "execution_count": 139,
   "metadata": {},
   "outputs": [],
   "source": [
    "dv = 4\n",
    "dc = 6\n",
    "m = int(n*dv/dc) # must be integer\n",
    "H = np.zeros((m,n))\n",
    "w = int(m/dv) #(must be integer)\n",
    "H_temp = np.zeros((w,n))\n",
    "for i in range(w):\n",
    "    H_temp[i,i*dc:dc*(i+1)] = 1\n",
    "for i in range(dv):\n",
    "    H[i*w:w*(i+1),:] = H_temp\n",
    "    H_temp = np.transpose(np.random.permutation(np.transpose(H_temp)))\n",
    "H = H.astype(\"int32\")"
   ]
  },
  {
   "cell_type": "code",
   "execution_count": 7,
   "metadata": {},
   "outputs": [
    {
     "name": "stdout",
     "output_type": "stream",
     "text": [
      "[[1 1 1 ... 0 0 0]\n",
      " [0 0 0 ... 0 0 0]\n",
      " [0 0 0 ... 0 0 0]\n",
      " ...\n",
      " [0 0 0 ... 0 1 0]\n",
      " [0 0 0 ... 0 0 0]\n",
      " [0 1 0 ... 0 0 0]] (64, 96)\n"
     ]
    }
   ],
   "source": [
    "print(H,H.shape)"
   ]
  },
  {
   "attachments": {},
   "cell_type": "markdown",
   "metadata": {},
   "source": [
    "#### generate indicis matrix"
   ]
  },
  {
   "cell_type": "code",
   "execution_count": 140,
   "metadata": {},
   "outputs": [],
   "source": [
    "v_ind = np.zeros((dv,n))\n",
    "cs_ind = np.zeros((dc,m))\n",
    "for i in range(n):\n",
    "    v_ind[:,i] = np.reshape(np.nonzero(H[:,i]),-1)\n",
    "for i in range(m):\n",
    "    cs_ind[:,i] = np.reshape(np.nonzero(H[i,:]),-1)\n",
    "v_ind = v_ind.astype(\"int32\")\n",
    "cs_ind = cs_ind.astype(\"int32\")"
   ]
  },
  {
   "cell_type": "code",
   "execution_count": 141,
   "metadata": {},
   "outputs": [
    {
     "name": "stdout",
     "output_type": "stream",
     "text": [
      "[[   0    6   12 ...  148 1698  816]\n",
      " [   1    7   13 ...  321 1814 2290]\n",
      " [   2    8   14 ...  855 6447 2320]\n",
      " [   3    9   15 ... 1876 7219 5783]\n",
      " [   4   10   16 ... 4043 7393 5804]\n",
      " [   5   11   17 ... 7583 8522 7743]]\n"
     ]
    }
   ],
   "source": [
    "k = dv*n\n",
    "#blf_reg = np.zeros(k)\n",
    "print(cs_ind)"
   ]
  },
  {
   "cell_type": "code",
   "execution_count": 39,
   "metadata": {},
   "outputs": [
    {
     "name": "stdout",
     "output_type": "stream",
     "text": [
      "[0]\n",
      "[1]\n",
      "[2]\n",
      "[3]\n",
      "[4]\n",
      "[5]\n",
      "[6]\n",
      "[7]\n",
      "[8]\n",
      "[9]\n",
      "[10]\n",
      "[11]\n"
     ]
    }
   ],
   "source": [
    "t1 = np.arange(k)\n",
    "for i in range(m):\n",
    "    for j in range(dc):\n",
    "        w = cs_ind[j,i]\n",
    "        ind = ind2llr(i,w)\n",
    "        print(t1[ind])"
   ]
  },
  {
   "cell_type": "code",
   "execution_count": 35,
   "metadata": {},
   "outputs": [],
   "source": [
    "def ind2llr(i,j):\n",
    "    '''i<= m row , j<= n colon'''\n",
    "    temp = np.where(cs_ind[:,i]==j)\n",
    "    return i*dc+temp[0]\n",
    "\n",
    "def init_llr(qber,y):\n",
    "    ''' initialize the LLR, temp has the size of number of bits, and temp one has the size of number of number of\n",
    "    nonzero element in the generator matrix'''\n",
    "    temp = np.zeros(k)\n",
    "    temp1 = np.zeros(n)\n",
    "    l = np.log((1-qber)/qber)\n",
    "    p = 1 - 2*y\n",
    "    for j in range(n):\n",
    "        for i in v_ind[:,j]:\n",
    "            ind = ind2llr(i,j)\n",
    "            temp[ind] = l*p[j]\n",
    "        temp1[j] = temp[ind]\n",
    "    return temp, temp1\n",
    "\n",
    "def phi(x):\n",
    "   if x<0.000001:\n",
    "       return 14.509\n",
    "   if x>14.509:\n",
    "       return 0.000001\n",
    "   return np.log((np.exp(x)+1)/(np.exp(x)-1))\n",
    " \n",
    "def cs_update(llr,c):\n",
    "    temp = np.zeros(k)\n",
    "    for i in range(m):\n",
    "        alpha = 1\n",
    "        l_tot = 0\n",
    "        #c_b = np.matmul(H,y)%2\n",
    "        sign = 1-2*c[i]\n",
    "        for j in cs_ind[:,i]:\n",
    "            ind = ind2llr(i,j)\n",
    "            alpha = alpha * np.sign(llr[ind])\n",
    "            l_tot = l_tot + phi(abs(llr[ind]))\n",
    "        for j in cs_ind[:,i]:\n",
    "            ind = ind2llr(i,j)\n",
    "            alpha1 = alpha * np.sign(llr[ind])\n",
    "            t1 = l_tot - phi(abs(llr[ind]))\n",
    "            temp[ind] = alpha1*phi(t1)*sign\n",
    "    return temp\n",
    "\n",
    "def v_update(llr,llrb):\n",
    "    temp = np.zeros(k)\n",
    "    temp_b = llrb\n",
    "    for j in range(n):\n",
    "        for i in v_ind[:,j]:\n",
    "            ind = ind2llr(i,j)\n",
    "            temp_b[j] = temp_b[j] + llr[ind]\n",
    "        for i in v_ind[:,j]:\n",
    "            ind = ind2llr(i,j)\n",
    "            temp[ind] = temp_b[j] - llr[ind]\n",
    "    return temp, temp_b"
   ]
  },
  {
   "cell_type": "code",
   "execution_count": 11,
   "metadata": {},
   "outputs": [
    {
     "name": "stdout",
     "output_type": "stream",
     "text": [
      "94\n"
     ]
    }
   ],
   "source": [
    "## temp\n",
    "#####################\n",
    "x = data.copy()\n",
    "y = data_err.copy()\n",
    "c = np.matmul(H,x)%2\n",
    "#init\n",
    "lq = np.zeros(k)\n",
    "lQ = np.zeros(n)\n",
    "lq, lQ = init_llr(qber,y)\n",
    "print(np.sum(x==y))\n",
    "#######################\n",
    "####################\n"
   ]
  },
  {
   "cell_type": "code",
   "execution_count": 76,
   "metadata": {},
   "outputs": [
    {
     "name": "stdout",
     "output_type": "stream",
     "text": [
      "[1 1 1 1 0 0]\n",
      "[1 1 1 1 1 0]\n",
      "[1 1 0 0]\n"
     ]
    }
   ],
   "source": [
    "print(x)\n",
    "print(y)\n",
    "print(c)"
   ]
  },
  {
   "cell_type": "code",
   "execution_count": 79,
   "metadata": {},
   "outputs": [
    {
     "name": "stdout",
     "output_type": "stream",
     "text": [
      "[-0.66248038 -0.66248038 -2.80672173 -0.66248038 -2.80672173  2.80672173\n",
      " -2.80672173 -0.66248038  0.66248038 -2.80672173 -2.80672173 -0.66248038]\n",
      "[-1.73460106 -1.73460106 -3.8788424   0.40964029 -1.73460106  1.73460106]\n",
      "[-1.07212067 -1.07212067 -1.07212067  1.07212067  1.07212067 -1.07212067\n",
      " -1.07212067 -1.07212067  1.07212067  1.07212067  1.07212067  1.07212067]\n"
     ]
    }
   ],
   "source": [
    "#lq,lQ = v_update(lr,lQ)\n",
    "#lr = cs_update(lq,c)\n",
    "print(lq)\n",
    "print(lQ)\n",
    "print(lr)"
   ]
  },
  {
   "cell_type": "code",
   "execution_count": 126,
   "metadata": {},
   "outputs": [
    {
     "name": "stdout",
     "output_type": "stream",
     "text": [
      "10863\n"
     ]
    }
   ],
   "source": [
    "## temp code for testing (not optmize) 2\n",
    "x = data\n",
    "y = data_err\n",
    "c = np.matmul(H,x)%2\n",
    "c_b = np.matmul(H,y)%2\n",
    "d = (c+c_b)%2\n",
    "#init\n",
    "blf_reg = np.zeros(k)\n",
    "bit_blf = np.zeros(n)\n",
    "blf_reg, bit_reg = init_llr(qber,y)\n",
    "print(np.sum(x==y))"
   ]
  },
  {
   "cell_type": "code",
   "execution_count": 142,
   "metadata": {},
   "outputs": [
    {
     "name": "stdout",
     "output_type": "stream",
     "text": [
      "11745\n"
     ]
    }
   ],
   "source": [
    "## temp code for testing (not optmize)\n",
    "x = data\n",
    "y = data_err\n",
    "c = np.matmul(H,x)%2\n",
    "c_b = np.matmul(H,y)%2\n",
    "d = (c+c_b)%2\n",
    "#init\n",
    "blf_reg = np.zeros(k)\n",
    "bit_blf = np.zeros(n)\n",
    "blf_reg, bit_reg = init_llr(qber,y)\n",
    "print(np.sum(x==y))\n",
    "def correction(c,y,blf_reg,bit_reg):\n",
    "    blf_reg1 = cs_update(blf_reg,c)\n",
    "    blf_reg1, bit_reg1 = v_update(blf_reg1,bit_reg)\n",
    "    yt = (np.sign(bit_reg1)-1)*(-0.5)\n",
    "    return yt.astype(\"int32\"),blf_reg1,bit_reg1\n",
    "y1 = y[:]\n",
    "       \n",
    "    "
   ]
  },
  {
   "cell_type": "code",
   "execution_count": 143,
   "metadata": {},
   "outputs": [
    {
     "name": "stdout",
     "output_type": "stream",
     "text": [
      "11948  / 12000\n",
      "11998  / 12000\n",
      "12000  / 12000\n",
      "12000  / 12000\n",
      "12000  / 12000\n",
      "12000  / 12000\n",
      "12000  / 12000\n",
      "12000  / 12000\n",
      "12000  / 12000\n",
      "12000  / 12000\n",
      "12000  / 12000\n",
      "12000  / 12000\n"
     ]
    },
    {
     "ename": "KeyboardInterrupt",
     "evalue": "",
     "output_type": "error",
     "traceback": [
      "\u001b[1;31m---------------------------------------------------------------------------\u001b[0m",
      "\u001b[1;31mKeyboardInterrupt\u001b[0m                         Traceback (most recent call last)",
      "Cell \u001b[1;32mIn[143], line 2\u001b[0m\n\u001b[0;32m      1\u001b[0m \u001b[39mfor\u001b[39;00m r \u001b[39min\u001b[39;00m \u001b[39mrange\u001b[39m(\u001b[39m30\u001b[39m):\n\u001b[1;32m----> 2\u001b[0m     y1,blf_reg,bit_reg1 \u001b[39m=\u001b[39m correction(c,y1,blf_reg,bit_reg)\n\u001b[0;32m      3\u001b[0m     \u001b[39mprint\u001b[39m(np\u001b[39m.\u001b[39msum(x\u001b[39m==\u001b[39my1),\u001b[39m\"\u001b[39m\u001b[39m / 12000\u001b[39m\u001b[39m\"\u001b[39m)\n",
      "Cell \u001b[1;32mIn[142], line 13\u001b[0m, in \u001b[0;36mcorrection\u001b[1;34m(c, y, blf_reg, bit_reg)\u001b[0m\n\u001b[0;32m     12\u001b[0m \u001b[39mdef\u001b[39;00m \u001b[39mcorrection\u001b[39m(c,y,blf_reg,bit_reg):\n\u001b[1;32m---> 13\u001b[0m     blf_reg1 \u001b[39m=\u001b[39m cs_update(blf_reg,c)\n\u001b[0;32m     14\u001b[0m     blf_reg1, bit_reg1 \u001b[39m=\u001b[39m v_update(blf_reg1,bit_reg)\n\u001b[0;32m     15\u001b[0m     yt \u001b[39m=\u001b[39m (np\u001b[39m.\u001b[39msign(bit_reg1)\u001b[39m-\u001b[39m\u001b[39m1\u001b[39m)\u001b[39m*\u001b[39m(\u001b[39m-\u001b[39m\u001b[39m0.5\u001b[39m)\n",
      "Cell \u001b[1;32mIn[35], line 42\u001b[0m, in \u001b[0;36mcs_update\u001b[1;34m(llr, c)\u001b[0m\n\u001b[0;32m     40\u001b[0m         alpha1 \u001b[39m=\u001b[39m alpha \u001b[39m*\u001b[39m np\u001b[39m.\u001b[39msign(llr[ind])\n\u001b[0;32m     41\u001b[0m         t1 \u001b[39m=\u001b[39m l_tot \u001b[39m-\u001b[39m phi(\u001b[39mabs\u001b[39m(llr[ind]))\n\u001b[1;32m---> 42\u001b[0m         temp[ind] \u001b[39m=\u001b[39m alpha1\u001b[39m*\u001b[39mphi(t1)\u001b[39m*\u001b[39msign\n\u001b[0;32m     43\u001b[0m \u001b[39mreturn\u001b[39;00m temp\n",
      "Cell \u001b[1;32mIn[35], line 25\u001b[0m, in \u001b[0;36mphi\u001b[1;34m(x)\u001b[0m\n\u001b[0;32m     23\u001b[0m \u001b[39mif\u001b[39;00m x\u001b[39m>\u001b[39m\u001b[39m14.509\u001b[39m:\n\u001b[0;32m     24\u001b[0m     \u001b[39mreturn\u001b[39;00m \u001b[39m0.000001\u001b[39m\n\u001b[1;32m---> 25\u001b[0m \u001b[39mreturn\u001b[39;00m np\u001b[39m.\u001b[39mlog((np\u001b[39m.\u001b[39;49mexp(x)\u001b[39m+\u001b[39m\u001b[39m1\u001b[39m)\u001b[39m/\u001b[39m(np\u001b[39m.\u001b[39mexp(x)\u001b[39m-\u001b[39m\u001b[39m1\u001b[39m))\n",
      "\u001b[1;31mKeyboardInterrupt\u001b[0m: "
     ]
    }
   ],
   "source": [
    "for r in range(30):\n",
    "    y1,blf_reg,bit_reg1 = correction(c,y1,blf_reg,bit_reg)\n",
    "    print(np.sum(x==y1),\" / 12000\")"
   ]
  },
  {
   "cell_type": "code",
   "execution_count": 49,
   "metadata": {},
   "outputs": [
    {
     "data": {
      "text/plain": [
       "-1"
      ]
     },
     "execution_count": 49,
     "metadata": {},
     "output_type": "execute_result"
    }
   ],
   "source": [
    "np.sign(-2)"
   ]
  }
 ],
 "metadata": {
  "kernelspec": {
   "display_name": ".venv",
   "language": "python",
   "name": "python3"
  },
  "language_info": {
   "codemirror_mode": {
    "name": "ipython",
    "version": 3
   },
   "file_extension": ".py",
   "mimetype": "text/x-python",
   "name": "python",
   "nbconvert_exporter": "python",
   "pygments_lexer": "ipython3",
   "version": "3.11.7"
  },
  "orig_nbformat": 4
 },
 "nbformat": 4,
 "nbformat_minor": 2
}
