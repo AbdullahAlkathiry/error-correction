{
 "cells": [
  {
   "attachments": {},
   "cell_type": "markdown",
   "metadata": {},
   "source": [
    "## LDPC code"
   ]
  },
  {
   "cell_type": "code",
   "execution_count": 1,
   "metadata": {},
   "outputs": [],
   "source": [
    "import numpy as np\n",
    "from matplotlib import pyplot as plt \n"
   ]
  },
  {
   "cell_type": "code",
   "execution_count": 39,
   "metadata": {},
   "outputs": [
    {
     "name": "stdout",
     "output_type": "stream",
     "text": [
      "9984 [1 1 0 ... 0 0 1]\n"
     ]
    }
   ],
   "source": [
    "# generate random 1000 bit and add error\n",
    "data = (np.random.rand(10000)<0.5)%2\n",
    "flip = (np.random.rand(10000)>0.999)%2\n",
    "data_err = (np.logical_xor(flip,data))%2\n",
    "print(np.sum(data_err == data),data_err)"
   ]
  },
  {
   "cell_type": "code",
   "execution_count": 60,
   "metadata": {},
   "outputs": [],
   "source": [
    "Genrator = (np.random.rand(4000,10000)>0.9995)%2\n",
    "code = np.matmul(Genrator,data)%2"
   ]
  },
  {
   "cell_type": "code",
   "execution_count": 41,
   "metadata": {},
   "outputs": [],
   "source": [
    "def correction(G,d_er,c):\n",
    "    cor_data = d_er\n",
    "    cr = np.matmul(G,d_er)%2\n",
    "    for ind1,_ in enumerate(cr):\n",
    "        if cr[ind1] != c[ind1]:\n",
    "            a_temp = G[ind1,:]\n",
    "            for i in np.arange(start=ind1+1, stop=len(cr), step =1, dtype=int):\n",
    "                if cr[i] != c[i]:\n",
    "                    a = a_temp*G[i,:]\n",
    "                    if np.sum(a)==1:\n",
    "                        ind2 = np.nonzero(a)\n",
    "                        cor_data[ind2] = (cor_data[ind2]+1)%2\n",
    "                        break\n",
    "                    elif np.sum(a)>1 :\n",
    "                        a_temp = a\n",
    "    return cor_data\n"
   ]
  },
  {
   "cell_type": "code",
   "execution_count": 64,
   "metadata": {},
   "outputs": [
    {
     "name": "stdout",
     "output_type": "stream",
     "text": [
      "9997\n"
     ]
    },
    {
     "ename": "",
     "evalue": "",
     "output_type": "error",
     "traceback": [
      "\u001b[1;31mThe Kernel crashed while executing code in the the current cell or a previous cell. Please review the code in the cell(s) to identify a possible cause of the failure. Click <a href='https://aka.ms/vscodeJupyterKernelCrash'>here</a> for more info. View Jupyter <a href='command:jupyter.viewOutput'>log</a> for further details."
     ]
    }
   ],
   "source": [
    "cr_data = correction(Genrator,data_err,code)\n",
    "print(np.sum(cr_data == data))"
   ]
  },
  {
   "cell_type": "code",
   "execution_count": 46,
   "metadata": {},
   "outputs": [
    {
     "name": "stdout",
     "output_type": "stream",
     "text": [
      "1152\n"
     ]
    }
   ],
   "source": [
    "code2 = np.matmul(Genrator,data_err)%2\n",
    "print(np.sum(code2==code))"
   ]
  }
 ],
 "metadata": {
  "kernelspec": {
   "display_name": ".venv",
   "language": "python",
   "name": "python3"
  },
  "language_info": {
   "codemirror_mode": {
    "name": "ipython",
    "version": 3
   },
   "file_extension": ".py",
   "mimetype": "text/x-python",
   "name": "python",
   "nbconvert_exporter": "python",
   "pygments_lexer": "ipython3",
   "version": "3.11.6"
  },
  "orig_nbformat": 4
 },
 "nbformat": 4,
 "nbformat_minor": 2
}
